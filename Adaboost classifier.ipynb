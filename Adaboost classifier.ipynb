{
 "cells": [
  {
   "cell_type": "markdown",
   "id": "c6e10701",
   "metadata": {},
   "source": [
    "# Problem Statement"
   ]
  },
  {
   "cell_type": "markdown",
   "id": "eb13c263",
   "metadata": {},
   "source": [
    "A D2C startup develops products using cutting edge technologies like Web 3.0. Over the past few months, the company has started multiple marketing campaigns offline and digital both. As a result, the users have started showing interest in the product on the website. These users with intent to buy product(s) are generally known as leads (Potential Customers).\n",
    "\n",
    "Leads are captured in 2 ways - Directly and Indirectly.\n",
    "\n",
    "Direct leads are captured via forms embedded in the website while indirect leads are captured based on certain activity of a user on the platform such as time spent on the website, number of user sessions, etc.\n",
    "\n",
    "Now, the marketing & sales team wants to identify the leads who are more likely to buy the product so that the sales team can manage their bandwidth efficiently by targeting these potential leads and increase the sales in a shorter span of time."
   ]
  },
  {
   "cell_type": "markdown",
   "id": "b0ff6b53",
   "metadata": {},
   "source": [
    "Can you identify the potential leads for a D2C startup?"
   ]
  },
  {
   "cell_type": "markdown",
   "id": "26da374e",
   "metadata": {},
   "source": [
    "# Relevant Libraries"
   ]
  },
  {
   "cell_type": "code",
   "execution_count": 1,
   "id": "e655ff52",
   "metadata": {},
   "outputs": [],
   "source": [
    "import matplotlib.pyplot as plt\n",
    "import pandas as pd\n",
    "import numpy as np\n",
    "import seaborn as sns\n",
    "from sklearn.preprocessing import LabelEncoder\n",
    "from sklearn import metrics\n",
    "import warnings\n",
    "warnings.filterwarnings('ignore')"
   ]
  },
  {
   "cell_type": "markdown",
   "id": "bcb7b7db",
   "metadata": {},
   "source": [
    "# Data Inspection"
   ]
  },
  {
   "cell_type": "code",
   "execution_count": 2,
   "id": "5149a992",
   "metadata": {},
   "outputs": [],
   "source": [
    "train = pd.read_csv(\"train_wn75k28.csv\")\n",
    "test = pd.read_csv(\"test_Wf7sxXF.csv\")"
   ]
  },
  {
   "cell_type": "code",
   "execution_count": 3,
   "id": "4db16088",
   "metadata": {},
   "outputs": [
    {
     "data": {
      "text/plain": [
       "((39161, 19), (13184, 18))"
      ]
     },
     "execution_count": 3,
     "metadata": {},
     "output_type": "execute_result"
    }
   ],
   "source": [
    "train.shape,test.shape"
   ]
  },
  {
   "cell_type": "code",
   "execution_count": 4,
   "id": "29eaf212",
   "metadata": {},
   "outputs": [
    {
     "data": {
      "text/plain": [
       "id                        int64\n",
       "created_at               object\n",
       "campaign_var_1            int64\n",
       "campaign_var_2            int64\n",
       "products_purchased      float64\n",
       "signup_date              object\n",
       "user_activity_var_1       int64\n",
       "user_activity_var_2       int64\n",
       "user_activity_var_3       int64\n",
       "user_activity_var_4       int64\n",
       "user_activity_var_5       int64\n",
       "user_activity_var_6       int64\n",
       "user_activity_var_7       int64\n",
       "user_activity_var_8       int64\n",
       "user_activity_var_9       int64\n",
       "user_activity_var_10      int64\n",
       "user_activity_var_11      int64\n",
       "user_activity_var_12      int64\n",
       "buy                       int64\n",
       "dtype: object"
      ]
     },
     "execution_count": 4,
     "metadata": {},
     "output_type": "execute_result"
    }
   ],
   "source": [
    "train.dtypes"
   ]
  },
  {
   "cell_type": "code",
   "execution_count": 5,
   "id": "1e9c0b95",
   "metadata": {},
   "outputs": [
    {
     "data": {
      "text/plain": [
       "id                        int64\n",
       "created_at               object\n",
       "campaign_var_1            int64\n",
       "campaign_var_2            int64\n",
       "products_purchased      float64\n",
       "signup_date              object\n",
       "user_activity_var_1       int64\n",
       "user_activity_var_2       int64\n",
       "user_activity_var_3       int64\n",
       "user_activity_var_4       int64\n",
       "user_activity_var_5       int64\n",
       "user_activity_var_6       int64\n",
       "user_activity_var_7       int64\n",
       "user_activity_var_8       int64\n",
       "user_activity_var_9       int64\n",
       "user_activity_var_10      int64\n",
       "user_activity_var_11      int64\n",
       "user_activity_var_12      int64\n",
       "dtype: object"
      ]
     },
     "execution_count": 5,
     "metadata": {},
     "output_type": "execute_result"
    }
   ],
   "source": [
    "test.dtypes"
   ]
  },
  {
   "cell_type": "markdown",
   "id": "88549a9e",
   "metadata": {},
   "source": [
    "# Data Cleaning"
   ]
  },
  {
   "cell_type": "markdown",
   "id": "64fdaa26",
   "metadata": {},
   "source": [
    "Why missing values treatment is required? Missing data in the training data set can reduce the power / fit of a model or can lead to a biased model because we have not analysed the behavior and relationship with other variables correctly. It can lead to wrong prediction."
   ]
  },
  {
   "cell_type": "code",
   "execution_count": 6,
   "id": "189f251d",
   "metadata": {},
   "outputs": [
    {
     "data": {
      "text/plain": [
       "id                          0\n",
       "created_at                  0\n",
       "campaign_var_1              0\n",
       "campaign_var_2              0\n",
       "products_purchased      20911\n",
       "signup_date             15113\n",
       "user_activity_var_1         0\n",
       "user_activity_var_2         0\n",
       "user_activity_var_3         0\n",
       "user_activity_var_4         0\n",
       "user_activity_var_5         0\n",
       "user_activity_var_6         0\n",
       "user_activity_var_7         0\n",
       "user_activity_var_8         0\n",
       "user_activity_var_9         0\n",
       "user_activity_var_10        0\n",
       "user_activity_var_11        0\n",
       "user_activity_var_12        0\n",
       "buy                         0\n",
       "dtype: int64"
      ]
     },
     "execution_count": 6,
     "metadata": {},
     "output_type": "execute_result"
    }
   ],
   "source": [
    "train.isnull().sum()"
   ]
  },
  {
   "cell_type": "code",
   "execution_count": 7,
   "id": "79d67bef",
   "metadata": {},
   "outputs": [
    {
     "data": {
      "text/plain": [
       "id                         0\n",
       "created_at                 0\n",
       "campaign_var_1             0\n",
       "campaign_var_2             0\n",
       "products_purchased      8136\n",
       "signup_date             6649\n",
       "user_activity_var_1        0\n",
       "user_activity_var_2        0\n",
       "user_activity_var_3        0\n",
       "user_activity_var_4        0\n",
       "user_activity_var_5        0\n",
       "user_activity_var_6        0\n",
       "user_activity_var_7        0\n",
       "user_activity_var_8        0\n",
       "user_activity_var_9        0\n",
       "user_activity_var_10       0\n",
       "user_activity_var_11       0\n",
       "user_activity_var_12       0\n",
       "dtype: int64"
      ]
     },
     "execution_count": 7,
     "metadata": {},
     "output_type": "execute_result"
    }
   ],
   "source": [
    "test.isnull().sum()"
   ]
  },
  {
   "cell_type": "code",
   "execution_count": 8,
   "id": "f7e0fb31",
   "metadata": {},
   "outputs": [],
   "source": [
    "train.fillna(value = 0,\n",
    "          inplace = True)"
   ]
  },
  {
   "cell_type": "code",
   "execution_count": 9,
   "id": "1ec86cea",
   "metadata": {},
   "outputs": [],
   "source": [
    "test.fillna(value = 0,\n",
    "          inplace = True)"
   ]
  },
  {
   "cell_type": "markdown",
   "id": "9ec54001",
   "metadata": {},
   "source": [
    "# Encoding"
   ]
  },
  {
   "cell_type": "code",
   "execution_count": 10,
   "id": "7c0e37dc",
   "metadata": {},
   "outputs": [],
   "source": [
    "train[\"created_at\"] = pd.to_datetime(train[\"created_at\"]).dt.strftime(\"%Y%m%d\")"
   ]
  },
  {
   "cell_type": "code",
   "execution_count": 11,
   "id": "06316806",
   "metadata": {},
   "outputs": [],
   "source": [
    "test[\"created_at\"] = pd.to_datetime(test[\"created_at\"]).dt.strftime(\"%Y%m%d\")"
   ]
  },
  {
   "cell_type": "code",
   "execution_count": 12,
   "id": "5c86e67a",
   "metadata": {},
   "outputs": [],
   "source": [
    "train['created_at']  = train['created_at'].astype('int')"
   ]
  },
  {
   "cell_type": "code",
   "execution_count": 13,
   "id": "ee4bc216",
   "metadata": {},
   "outputs": [],
   "source": [
    "test['created_at']  = test['created_at'].astype('int')"
   ]
  },
  {
   "cell_type": "code",
   "execution_count": 14,
   "id": "d7ebcf04",
   "metadata": {},
   "outputs": [],
   "source": [
    "train[\"signup_date\"] = pd.to_datetime(train[\"signup_date\"]).dt.strftime(\"%Y%m%d\")"
   ]
  },
  {
   "cell_type": "code",
   "execution_count": 15,
   "id": "212e5e53",
   "metadata": {},
   "outputs": [],
   "source": [
    "test[\"signup_date\"] = pd.to_datetime(test[\"signup_date\"]).dt.strftime(\"%Y%m%d\")"
   ]
  },
  {
   "cell_type": "code",
   "execution_count": 16,
   "id": "ca9dc343",
   "metadata": {},
   "outputs": [],
   "source": [
    "train['signup_date']  = train['signup_date'].astype('int')"
   ]
  },
  {
   "cell_type": "code",
   "execution_count": 17,
   "id": "31f370bd",
   "metadata": {},
   "outputs": [],
   "source": [
    "test['signup_date']  = test['signup_date'].astype('int')"
   ]
  },
  {
   "cell_type": "code",
   "execution_count": 18,
   "id": "c2aed074",
   "metadata": {},
   "outputs": [
    {
     "data": {
      "text/plain": [
       "id                        int64\n",
       "created_at                int32\n",
       "campaign_var_1            int64\n",
       "campaign_var_2            int64\n",
       "products_purchased      float64\n",
       "signup_date               int32\n",
       "user_activity_var_1       int64\n",
       "user_activity_var_2       int64\n",
       "user_activity_var_3       int64\n",
       "user_activity_var_4       int64\n",
       "user_activity_var_5       int64\n",
       "user_activity_var_6       int64\n",
       "user_activity_var_7       int64\n",
       "user_activity_var_8       int64\n",
       "user_activity_var_9       int64\n",
       "user_activity_var_10      int64\n",
       "user_activity_var_11      int64\n",
       "user_activity_var_12      int64\n",
       "buy                       int64\n",
       "dtype: object"
      ]
     },
     "execution_count": 18,
     "metadata": {},
     "output_type": "execute_result"
    }
   ],
   "source": [
    "train.dtypes"
   ]
  },
  {
   "cell_type": "code",
   "execution_count": 19,
   "id": "cf6e6ad5",
   "metadata": {},
   "outputs": [],
   "source": [
    "X=train.iloc[:,:18].values"
   ]
  },
  {
   "cell_type": "code",
   "execution_count": 20,
   "id": "fbd9d1e9",
   "metadata": {},
   "outputs": [
    {
     "data": {
      "text/plain": [
       "array([[1.0000000e+00, 2.0210101e+07, 1.0000000e+00, ..., 0.0000000e+00,\n",
       "        0.0000000e+00, 0.0000000e+00],\n",
       "       [2.0000000e+00, 2.0210101e+07, 2.0000000e+00, ..., 0.0000000e+00,\n",
       "        0.0000000e+00, 0.0000000e+00],\n",
       "       [3.0000000e+00, 2.0210101e+07, 9.0000000e+00, ..., 0.0000000e+00,\n",
       "        0.0000000e+00, 0.0000000e+00],\n",
       "       ...,\n",
       "       [3.9159000e+04, 2.0211231e+07, 8.0000000e+00, ..., 0.0000000e+00,\n",
       "        0.0000000e+00, 0.0000000e+00],\n",
       "       [3.9160000e+04, 2.0211231e+07, 7.0000000e+00, ..., 0.0000000e+00,\n",
       "        1.0000000e+00, 0.0000000e+00],\n",
       "       [3.9161000e+04, 2.0211231e+07, 2.0000000e+00, ..., 0.0000000e+00,\n",
       "        0.0000000e+00, 0.0000000e+00]])"
      ]
     },
     "execution_count": 20,
     "metadata": {},
     "output_type": "execute_result"
    }
   ],
   "source": [
    "train.iloc[:,:18].values"
   ]
  },
  {
   "cell_type": "code",
   "execution_count": 21,
   "id": "98c348dd",
   "metadata": {},
   "outputs": [],
   "source": [
    "y=train.iloc[:,-1].values"
   ]
  },
  {
   "cell_type": "code",
   "execution_count": 22,
   "id": "3124eb10",
   "metadata": {},
   "outputs": [
    {
     "data": {
      "text/plain": [
       "array([0, 0, 0, ..., 0, 0, 0], dtype=int64)"
      ]
     },
     "execution_count": 22,
     "metadata": {},
     "output_type": "execute_result"
    }
   ],
   "source": [
    "train.iloc[:,-1].values"
   ]
  },
  {
   "cell_type": "code",
   "execution_count": 23,
   "id": "cc9d4463",
   "metadata": {},
   "outputs": [],
   "source": [
    "from sklearn.model_selection import train_test_split\n",
    "X_train,X_test,y_train,y_test = train_test_split(X,y,test_size=0.4,random_state=20)"
   ]
  },
  {
   "cell_type": "code",
   "execution_count": 24,
   "id": "15867851",
   "metadata": {},
   "outputs": [],
   "source": [
    "from sklearn.ensemble import AdaBoostClassifier\n",
    "# Create adaboost classifer object\n",
    "abc = AdaBoostClassifier(n_estimators=50,\n",
    "                         learning_rate=1)\n",
    "# Train Adaboost Classifer\n",
    "model = abc.fit(X_train, y_train)\n",
    "\n",
    "#Predict the response for test dataset\n",
    "y_pred = model.predict(X_test)"
   ]
  },
  {
   "cell_type": "code",
   "execution_count": 25,
   "id": "17a099f4",
   "metadata": {},
   "outputs": [],
   "source": [
    "from sklearn.metrics import f1_score"
   ]
  },
  {
   "cell_type": "code",
   "execution_count": 26,
   "id": "87e0ed1e",
   "metadata": {},
   "outputs": [
    {
     "data": {
      "text/plain": [
       "0.9753590807532716"
      ]
     },
     "execution_count": 26,
     "metadata": {},
     "output_type": "execute_result"
    }
   ],
   "source": [
    "f1_score(y_test, y_pred, average='micro')"
   ]
  },
  {
   "cell_type": "code",
   "execution_count": 27,
   "id": "ee529aad",
   "metadata": {},
   "outputs": [],
   "source": [
    "submission = pd.read_csv('sample_submission_2zvVjBu.csv')\n",
    "final_predictions = abc.predict(test)\n",
    "submission['buy'] = final_predictions\n",
    "#only positive predictions for the target variable\n",
    "submission['buy'] = submission['buy'].apply(lambda x: 0 if x<0 else x)\n",
    "submission.to_csv('submission01.csv', index=False)"
   ]
  }
 ],
 "metadata": {
  "kernelspec": {
   "display_name": "Python 3",
   "language": "python",
   "name": "python3"
  },
  "language_info": {
   "codemirror_mode": {
    "name": "ipython",
    "version": 3
   },
   "file_extension": ".py",
   "mimetype": "text/x-python",
   "name": "python",
   "nbconvert_exporter": "python",
   "pygments_lexer": "ipython3",
   "version": "3.8.8"
  }
 },
 "nbformat": 4,
 "nbformat_minor": 5
}
